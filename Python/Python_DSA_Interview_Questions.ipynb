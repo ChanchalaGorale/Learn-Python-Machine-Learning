{
  "nbformat": 4,
  "nbformat_minor": 0,
  "metadata": {
    "colab": {
      "provenance": []
    },
    "kernelspec": {
      "name": "python3",
      "display_name": "Python 3"
    },
    "language_info": {
      "name": "python"
    }
  },
  "cells": [
    {
      "cell_type": "markdown",
      "source": [
        "## 🧠 **Top 20 Python DSA Interview Questions with Answers**"
      ],
      "metadata": {
        "id": "-7ZSVoQgN7jA"
      }
    },
    {
      "cell_type": "markdown",
      "source": [
        "### **1. Reverse a Linked List**"
      ],
      "metadata": {
        "id": "AbIV78TiOB47"
      }
    },
    {
      "cell_type": "code",
      "execution_count": null,
      "metadata": {
        "id": "haILTSV0N3tB"
      },
      "outputs": [],
      "source": [
        "def reverse_list(head):\n",
        "    prev = None\n",
        "    current = head\n",
        "    while current:\n",
        "        nxt = current.next\n",
        "        current.next = prev\n",
        "        prev = current\n",
        "        current = nxt\n",
        "    return prev\n"
      ]
    },
    {
      "cell_type": "markdown",
      "source": [
        "### **2. Detect Cycle in Linked List**"
      ],
      "metadata": {
        "id": "PymXXWTPOFOO"
      }
    },
    {
      "cell_type": "code",
      "source": [
        "def has_cycle(head):\n",
        "    slow = fast = head\n",
        "    while fast and fast.next:\n",
        "        slow = slow.next\n",
        "        fast = fast.next.next\n",
        "        if slow == fast:\n",
        "            return True\n",
        "    return False"
      ],
      "metadata": {
        "id": "iRj5FXK4OLsR"
      },
      "execution_count": null,
      "outputs": []
    },
    {
      "cell_type": "markdown",
      "source": [
        "### **3. Merge Two Sorted Linked Lists**"
      ],
      "metadata": {
        "id": "vRnN4sFrOQua"
      }
    },
    {
      "cell_type": "code",
      "source": [
        "def merge(l1, l2):\n",
        "    dummy = ListNode(0)\n",
        "    curr = dummy\n",
        "    while l1 and l2:\n",
        "        if l1.val < l2.val:\n",
        "            curr.next, l1 = l1, l1.next\n",
        "        else:\n",
        "            curr.next, l2 = l2, l2.next\n",
        "        curr = curr.next\n",
        "    curr.next = l1 or l2\n",
        "    return dummy.next"
      ],
      "metadata": {
        "id": "IA7B_piPOROt"
      },
      "execution_count": null,
      "outputs": []
    },
    {
      "cell_type": "markdown",
      "source": [
        "### **4. Find Middle of Linked List**"
      ],
      "metadata": {
        "id": "YkSTYgruOTY9"
      }
    },
    {
      "cell_type": "code",
      "source": [
        "def middle_node(head):\n",
        "    slow = fast = head\n",
        "    while fast and fast.next:\n",
        "        slow = slow.next\n",
        "        fast = fast.next.next\n",
        "    return slow"
      ],
      "metadata": {
        "id": "gFUUQL6OOWNu"
      },
      "execution_count": null,
      "outputs": []
    },
    {
      "cell_type": "markdown",
      "source": [
        "### **5. Two Sum**"
      ],
      "metadata": {
        "id": "4nv3txLzOces"
      }
    },
    {
      "cell_type": "code",
      "source": [
        "def two_sum(nums, target):\n",
        "    seen = {}\n",
        "    for i, num in enumerate(nums):\n",
        "        diff = target - num\n",
        "        if diff in seen:\n",
        "            return [seen[diff], i]\n",
        "        seen[num] = i\n"
      ],
      "metadata": {
        "id": "uDyeEDThOec5"
      },
      "execution_count": null,
      "outputs": []
    },
    {
      "cell_type": "markdown",
      "source": [
        "### **6. Valid Parentheses**"
      ],
      "metadata": {
        "id": "UNred_Q3OjIc"
      }
    },
    {
      "cell_type": "code",
      "source": [
        "def is_valid(s):\n",
        "    stack = []\n",
        "    mapping = {')': '(', ']': '[', '}': '{'}\n",
        "    for char in s:\n",
        "        if char in mapping:\n",
        "            top = stack.pop() if stack else '#'\n",
        "            if mapping[char] != top:\n",
        "                return False\n",
        "        else:\n",
        "            stack.append(char)\n",
        "    return not stack"
      ],
      "metadata": {
        "id": "tYXCK26-OiuE"
      },
      "execution_count": null,
      "outputs": []
    },
    {
      "cell_type": "markdown",
      "source": [
        "### **7. Implement Queue Using Two Stacks**"
      ],
      "metadata": {
        "id": "G5nLzoPvOoPg"
      }
    },
    {
      "cell_type": "code",
      "source": [
        "class MyQueue:\n",
        "    def __init__(self):\n",
        "        self.in_stack = []\n",
        "        self.out_stack = []\n",
        "\n",
        "    def push(self, x):\n",
        "        self.in_stack.append(x)\n",
        "\n",
        "    def pop(self):\n",
        "        self.peek()\n",
        "        return self.out_stack.pop()\n",
        "\n",
        "    def peek(self):\n",
        "        if not self.out_stack:\n",
        "            while self.in_stack:\n",
        "                self.out_stack.append(self.in_stack.pop())\n",
        "        return self.out_stack[-1]\n",
        "\n",
        "    def empty(self):\n",
        "        return not self.in_stack and not self.out_stack"
      ],
      "metadata": {
        "id": "bsagDISQOq45"
      },
      "execution_count": null,
      "outputs": []
    },
    {
      "cell_type": "markdown",
      "source": [
        "### **8. Inorder Traversal of Binary Tree**"
      ],
      "metadata": {
        "id": "HVOMmrPJOtcN"
      }
    },
    {
      "cell_type": "code",
      "source": [
        "def inorder(root):\n",
        "    result = []\n",
        "    def dfs(node):\n",
        "        if node:\n",
        "            dfs(node.left)\n",
        "            result.append(node.val)\n",
        "            dfs(node.right)\n",
        "    dfs(root)\n",
        "    return result\n"
      ],
      "metadata": {
        "id": "eOk9SbYXOuoe"
      },
      "execution_count": null,
      "outputs": []
    },
    {
      "cell_type": "markdown",
      "source": [
        "### **9. Level Order Traversal (BFS)**"
      ],
      "metadata": {
        "id": "lqgJQ5FhOxE_"
      }
    },
    {
      "cell_type": "code",
      "source": [
        "from collections import deque\n",
        "\n",
        "def level_order(root):\n",
        "    if not root:\n",
        "        return []\n",
        "    q = deque([root])\n",
        "    result = []\n",
        "    while q:\n",
        "        level = []\n",
        "        for _ in range(len(q)):\n",
        "            node = q.popleft()\n",
        "            level.append(node.val)\n",
        "            if node.left: q.append(node.left)\n",
        "            if node.right: q.append(node.right)\n",
        "        result.append(level)\n",
        "    return result"
      ],
      "metadata": {
        "id": "-xTs_tU-OzCh"
      },
      "execution_count": null,
      "outputs": []
    },
    {
      "cell_type": "markdown",
      "source": [
        "### **10. Check if Tree is Symmetric**"
      ],
      "metadata": {
        "id": "yILuvh1SO5C5"
      }
    },
    {
      "cell_type": "code",
      "source": [
        "def is_symmetric(root):\n",
        "    def is_mirror(t1, t2):\n",
        "        if not t1 and not t2:\n",
        "            return True\n",
        "        if not t1 or not t2:\n",
        "            return False\n",
        "        return (t1.val == t2.val and\n",
        "                is_mirror(t1.left, t2.right) and\n",
        "                is_mirror(t1.right, t2.left))\n",
        "    return is_mirror(root, root)"
      ],
      "metadata": {
        "id": "1YkfQnjMO65I"
      },
      "execution_count": null,
      "outputs": []
    },
    {
      "cell_type": "markdown",
      "source": [
        "### **11. Lowest Common Ancestor (Binary Tree)**"
      ],
      "metadata": {
        "id": "rJSwh3YyO9hY"
      }
    },
    {
      "cell_type": "code",
      "source": [
        "def lca(root, p, q):\n",
        "    if not root or root == p or root == q:\n",
        "        return root\n",
        "    left = lca(root.left, p, q)\n",
        "    right = lca(root.right, p, q)\n",
        "    if left and right:\n",
        "        return root\n",
        "    return left or right"
      ],
      "metadata": {
        "id": "EC0H3c6LO_uR"
      },
      "execution_count": null,
      "outputs": []
    },
    {
      "cell_type": "markdown",
      "source": [
        "### **12. Binary Search**"
      ],
      "metadata": {
        "id": "CNECpW7uPJoH"
      }
    },
    {
      "cell_type": "code",
      "source": [
        "def binary_search(arr, target):\n",
        "    low, high = 0, len(arr)-1\n",
        "    while low <= high:\n",
        "        mid = (low + high)//2\n",
        "        if arr[mid] == target:\n",
        "            return mid\n",
        "        elif arr[mid] < target:\n",
        "            low = mid + 1\n",
        "        else:\n",
        "            high = mid - 1\n",
        "    return -1"
      ],
      "metadata": {
        "id": "WRF_6F3HPLYX"
      },
      "execution_count": null,
      "outputs": []
    },
    {
      "cell_type": "markdown",
      "source": [
        "### **13. Maximum Subarray (Kadane’s Algorithm)**"
      ],
      "metadata": {
        "id": "kBeIFGpbPNxN"
      }
    },
    {
      "cell_type": "code",
      "source": [
        "def max_subarray(nums):\n",
        "    max_sum = curr = nums[0]\n",
        "    for n in nums[1:]:\n",
        "        curr = max(n, curr + n)\n",
        "        max_sum = max(max_sum, curr)\n",
        "    return max_sum"
      ],
      "metadata": {
        "id": "AOjofG0FPPFn"
      },
      "execution_count": null,
      "outputs": []
    },
    {
      "cell_type": "markdown",
      "source": [
        "### **14. Climbing Stairs (DP)**"
      ],
      "metadata": {
        "id": "_b0kyIsIPRyy"
      }
    },
    {
      "cell_type": "code",
      "source": [
        "def climb_stairs(n):\n",
        "    if n <= 2: return n\n",
        "    a, b = 1, 2\n",
        "    for _ in range(3, n+1):\n",
        "        a, b = b, a + b\n",
        "    return b\n"
      ],
      "metadata": {
        "id": "y_NCerDKPTEB"
      },
      "execution_count": null,
      "outputs": []
    },
    {
      "cell_type": "markdown",
      "source": [
        "### **15. Longest Palindromic Substring**"
      ],
      "metadata": {
        "id": "oPtXIwqPPVrx"
      }
    },
    {
      "cell_type": "code",
      "source": [
        "def longest_palindrome(s):\n",
        "    res = \"\"\n",
        "    for i in range(len(s)):\n",
        "        for l, r in [(i, i), (i, i+1)]:\n",
        "            while l >= 0 and r < len(s) and s[l] == s[r]:\n",
        "                if (r - l + 1) > len(res):\n",
        "                    res = s[l:r+1]\n",
        "                l -= 1\n",
        "                r += 1\n",
        "    return res\n"
      ],
      "metadata": {
        "id": "hLioXSMHPXsa"
      },
      "execution_count": null,
      "outputs": []
    },
    {
      "cell_type": "markdown",
      "source": [
        "### **16. Merge Intervals**"
      ],
      "metadata": {
        "id": "F_8VrYB6PaPL"
      }
    },
    {
      "cell_type": "code",
      "source": [
        "def merge(intervals):\n",
        "    intervals.sort(key=lambda x: x[0])\n",
        "    merged = [intervals[0]]\n",
        "    for curr in intervals[1:]:\n",
        "        if curr[0] <= merged[-1][1]:\n",
        "            merged[-1][1] = max(merged[-1][1], curr[1])\n",
        "        else:\n",
        "            merged.append(curr)\n",
        "    return merged"
      ],
      "metadata": {
        "id": "LGHDHCQ4PbdC"
      },
      "execution_count": null,
      "outputs": []
    },
    {
      "cell_type": "markdown",
      "source": [
        "### **17. Product of Array Except Self**"
      ],
      "metadata": {
        "id": "0k8xDKvVPb4Y"
      }
    },
    {
      "cell_type": "code",
      "source": [
        "def product_except_self(nums):\n",
        "    res = [1]*len(nums)\n",
        "    left = right = 1\n",
        "    for i in range(len(nums)):\n",
        "        res[i] *= left\n",
        "        left *= nums[i]\n",
        "    for i in range(len(nums)-1, -1, -1):\n",
        "        res[i] *= right\n",
        "        right *= nums[i]\n",
        "    return res\n"
      ],
      "metadata": {
        "id": "kmR_ZdBWPgSJ"
      },
      "execution_count": null,
      "outputs": []
    },
    {
      "cell_type": "markdown",
      "source": [
        "### **18. Top K Frequent Elements**"
      ],
      "metadata": {
        "id": "ld2HzUjBPjVN"
      }
    },
    {
      "cell_type": "code",
      "source": [
        "from collections import Counter\n",
        "import heapq\n",
        "\n",
        "def top_k_frequent(nums, k):\n",
        "    count = Counter(nums)\n",
        "    return [item for item, _ in heapq.nlargest(k, count.items(), key=lambda x: x[1])]"
      ],
      "metadata": {
        "id": "hHF3C_yyPlBi"
      },
      "execution_count": null,
      "outputs": []
    },
    {
      "cell_type": "markdown",
      "source": [
        "### **19. Rotate a Matrix (90 degrees)**"
      ],
      "metadata": {
        "id": "OFom0kAaPnjg"
      }
    },
    {
      "cell_type": "code",
      "source": [
        "def rotate(matrix):\n",
        "    matrix[:] = list(zip(*matrix[::-1]))"
      ],
      "metadata": {
        "id": "o8qxVkjJPo_L"
      },
      "execution_count": null,
      "outputs": []
    },
    {
      "cell_type": "markdown",
      "source": [
        "### **20. Find Peak Element (Binary Search Variant)**"
      ],
      "metadata": {
        "id": "OnP2LaIfPtLr"
      }
    },
    {
      "cell_type": "code",
      "source": [
        "def find_peak(nums):\n",
        "    left, right = 0, len(nums)-1\n",
        "    while left < right:\n",
        "        mid = (left + right)//2\n",
        "        if nums[mid] < nums[mid+1]:\n",
        "            left = mid + 1\n",
        "        else:\n",
        "            right = mid\n",
        "    return left"
      ],
      "metadata": {
        "id": "ZQUqECcMPuqf"
      },
      "execution_count": null,
      "outputs": []
    }
  ]
}