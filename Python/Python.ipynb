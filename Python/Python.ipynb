{
  "nbformat": 4,
  "nbformat_minor": 0,
  "metadata": {
    "colab": {
      "provenance": []
    },
    "kernelspec": {
      "name": "python3",
      "display_name": "Python 3"
    },
    "language_info": {
      "name": "python"
    }
  },
  "cells": [
    {
      "cell_type": "markdown",
      "source": [
        "# Print Hello World!"
      ],
      "metadata": {
        "id": "o4YBEUGjz7uz"
      }
    },
    {
      "cell_type": "code",
      "execution_count": null,
      "metadata": {
        "colab": {
          "base_uri": "https://localhost:8080/"
        },
        "id": "O8ykbGhPz4AV",
        "outputId": "e5b4c2e9-5f52-458b-f937-c08b7a91e13f"
      },
      "outputs": [
        {
          "output_type": "stream",
          "name": "stdout",
          "text": [
            "Hello World!\n"
          ]
        }
      ],
      "source": [
        "print(\"Hello World!\")"
      ]
    },
    {
      "cell_type": "markdown",
      "source": [
        "# Adding comments in python"
      ],
      "metadata": {
        "id": "HyEo5WOT0HEB"
      }
    },
    {
      "cell_type": "code",
      "source": [
        "# I am comment line\n",
        "# I don't print"
      ],
      "metadata": {
        "id": "N6vmWgxu0Jqr"
      },
      "execution_count": null,
      "outputs": []
    },
    {
      "cell_type": "markdown",
      "source": [
        "# Docstring or multiline string"
      ],
      "metadata": {
        "id": "q9ztKvnY1Ehm"
      }
    },
    {
      "cell_type": "code",
      "source": [
        "\"\"\"\n",
        "Look at me\n",
        "I am multiline string\n",
        "I can go on...\n",
        "& I print when executed\n",
        "\"\"\""
      ],
      "metadata": {
        "colab": {
          "base_uri": "https://localhost:8080/",
          "height": 35
        },
        "id": "KgwBlG8b1JUG",
        "outputId": "fc244b5f-1c20-4f4c-f37a-9e3c00e93652"
      },
      "execution_count": null,
      "outputs": [
        {
          "output_type": "execute_result",
          "data": {
            "text/plain": [
              "'\\nLook at me\\nI am multiline string\\nI can go on...\\n& I print when executed\\n'"
            ],
            "application/vnd.google.colaboratory.intrinsic+json": {
              "type": "string"
            }
          },
          "metadata": {},
          "execution_count": 7
        }
      ]
    },
    {
      "cell_type": "markdown",
      "source": [
        "# Input and Output"
      ],
      "metadata": {
        "id": "amA7WzE21VH0"
      }
    },
    {
      "cell_type": "code",
      "source": [
        "print(\"✅ Add two numbers\")\n",
        "\n",
        "# get input while executing\n",
        "a = int(input(\"Enter first number: \"))\n",
        "b = int(input(\"Enter second number: \"))\n",
        "\n",
        "print(f\"c={a+b}\")"
      ],
      "metadata": {
        "colab": {
          "base_uri": "https://localhost:8080/"
        },
        "id": "uIZxnW4T1cxP",
        "outputId": "4ab2ebb2-0677-4464-84b2-c32086db05bf"
      },
      "execution_count": null,
      "outputs": [
        {
          "output_type": "stream",
          "name": "stdout",
          "text": [
            "✅ Add two numbers\n",
            "Enter first number: 1\n",
            "Enter second number: 2\n",
            "c=3\n"
          ]
        }
      ]
    },
    {
      "cell_type": "code",
      "source": [
        "# if not wrapped in int, the input is considered as string\n",
        "# and instead of addition, it will just concatinate the strings\n",
        "\n",
        "print(\"❌ Add two numbers\")\n",
        "\n",
        "# get input while executing\n",
        "a = input(\"Enter first number: \")\n",
        "b = input(\"Enter second number: \")\n",
        "\n",
        "print(f\"c={a+b}\")"
      ],
      "metadata": {
        "colab": {
          "base_uri": "https://localhost:8080/"
        },
        "id": "fDxr7uJo2IZ2",
        "outputId": "52379cee-3d86-441b-ae12-acd073bcf052"
      },
      "execution_count": null,
      "outputs": [
        {
          "output_type": "stream",
          "name": "stdout",
          "text": [
            "❌ Add two numbers\n",
            "Enter first number: 1\n",
            "Enter second number: 2\n",
            "c=12\n"
          ]
        }
      ]
    },
    {
      "cell_type": "markdown",
      "source": [
        "# Print"
      ],
      "metadata": {
        "id": "YgcDq68j2iKV"
      }
    },
    {
      "cell_type": "code",
      "source": [
        "# print string\n",
        "print(\"I am string.\")\n",
        "\n",
        "# print variable\n",
        "name=\"I am name\"\n",
        "print(name)\n",
        "\n",
        "# print string & variable\n",
        "name=\"I am\"\n",
        "print(name, \"you\")\n",
        "\n",
        "# print formated string\n",
        "name=\"John Doe\"\n",
        "course_name = \"Python\"\n",
        "\n",
        "print(f\"Hello, I am {name}! How are you liking this {course_name} course?\")\n",
        "\n",
        "# end with\n",
        "print(\"I\", \"am\", \"with\", \"you\")\n",
        "print(\"I\", \"am\", \"with\", \"you\", end=\".\")\n",
        "\n",
        "# separate with\n",
        "print(\"1\", \"2\", \"3\", \"4\", \"5\")\n",
        "print(\"1\", \"2\", \"3\", \"4\", \"5\", sep=\",\")"
      ],
      "metadata": {
        "colab": {
          "base_uri": "https://localhost:8080/"
        },
        "id": "MRHaPYl22o1X",
        "outputId": "37694525-25ab-4e4c-b019-7d01c5800e9b"
      },
      "execution_count": null,
      "outputs": [
        {
          "output_type": "stream",
          "name": "stdout",
          "text": [
            "I am string.\n",
            "I am name\n",
            "I am you\n",
            "Hello, I am John Doe! How are you liking this Python course?\n",
            "I am with you\n",
            "I am with you.1 2 3 4 5\n",
            "1,2,3,4,5\n"
          ]
        }
      ]
    },
    {
      "cell_type": "markdown",
      "source": [
        "# Data types"
      ],
      "metadata": {
        "id": "jXz_PuBH5qrC"
      }
    },
    {
      "cell_type": "code",
      "source": [
        "a = \"I am string\"\n",
        "b = 1234\n",
        "c = 1.234\n",
        "d = (1,2,3,4)\n",
        "e = [1,2,3,4]\n",
        "f = {1:\"one\",2:\"two\",3:\"three\",4:\"four\"}\n",
        "\n",
        "print(type(a))\n",
        "print(type(b))\n",
        "print(type(c))\n",
        "print(type(d))\n",
        "print(type(e))\n",
        "print(type(f))"
      ],
      "metadata": {
        "colab": {
          "base_uri": "https://localhost:8080/"
        },
        "id": "VGENDQ9H5wKV",
        "outputId": "55ed3b3a-121c-42be-8135-8bd00aca9cc4"
      },
      "execution_count": null,
      "outputs": [
        {
          "output_type": "stream",
          "name": "stdout",
          "text": [
            "<class 'str'>\n",
            "<class 'int'>\n",
            "<class 'float'>\n",
            "<class 'tuple'>\n",
            "<class 'list'>\n",
            "<class 'dict'>\n"
          ]
        }
      ]
    },
    {
      "cell_type": "code",
      "source": [
        "# convert dtype\n",
        "\n",
        "a = \"1\"\n",
        "b = \"2\"\n",
        "print(f\"Without convertion: {a+b} (concatinate)\")\n",
        "print(f\"Convert to integers: {int(a)+int(b)} (sum)\\n\\n\")\n",
        "\n",
        "a = 1\n",
        "b = 2\n",
        "print(f\"Without convertion: {a+b} (sum)\")\n",
        "print(f\"Convert to strings: {str(a)+str(b)} (concatinate)\\n\\n\")\n",
        "\n",
        "a = \"1.0\"\n",
        "b = \"2.1\"\n",
        "\n",
        "print(f\"Without convertion: {a+b} (concatinate)\")\n",
        "print(f\"Convert to float: {float(a)+float(b)} (sum)\\n\\n\")"
      ],
      "metadata": {
        "colab": {
          "base_uri": "https://localhost:8080/"
        },
        "id": "Nb2LDrCz6TBz",
        "outputId": "287a3310-16d2-4e52-c610-3795a8dcb6b5"
      },
      "execution_count": null,
      "outputs": [
        {
          "output_type": "stream",
          "name": "stdout",
          "text": [
            "Without convertion: 12 (concatinate)\n",
            "Convert to integers: 3 (sum)\n",
            "\n",
            "\n",
            "Without convertion: 3 (sum)\n",
            "Convert to strings: 12 (concatinate)\n",
            "\n",
            "\n",
            "Without convertion: 1.02.1 (concatinate)\n",
            "Convert to float: 3.1 (sum)\n",
            "\n",
            "\n"
          ]
        }
      ]
    },
    {
      "cell_type": "markdown",
      "source": [
        "# Variables\n",
        "\n",
        "Variables are named storage locations used to hold data that can be accessed and modified during program execution.\n",
        "\n",
        "Rules of naming variables:\n",
        "- only contain letters, digits and underscores\n",
        "- cannot start with a digit\n",
        "- variable are case-sensitive\n",
        "- Avoid using Python keywords as variable names\n"
      ],
      "metadata": {
        "id": "gmJUZ_FD7YNE"
      }
    },
    {
      "cell_type": "code",
      "source": [
        "# only contain letters, digits and underscores\n",
        "a =\"string variable\"\n",
        "a2b = 123\n",
        "name_of_2_cities = [\"Bangalore\",\"Mumbai\"]\n",
        "\n",
        "# cannot start with a digit\n",
        "#2_cities = [\"Bangalore\",\"Mumbai\"] # try uncommenting me\n",
        "\n",
        "# variable are case-sensitive\n",
        "favoriteColor= \"Blue\"\n",
        "favoritecolor= \"Black\"\n",
        "favorite_color= \"Green\"\n",
        "favorite_Color= \"Red\"\n",
        "\n",
        "print(\"All are different variables: \")\n",
        "print(favoriteColor, favoritecolor, favorite_color, favorite_Color)"
      ],
      "metadata": {
        "colab": {
          "base_uri": "https://localhost:8080/"
        },
        "id": "6PhRtqiF8X9A",
        "outputId": "c2e4acd9-fcf8-42f4-dc14-da8523bfd1f8"
      },
      "execution_count": null,
      "outputs": [
        {
          "output_type": "stream",
          "name": "stdout",
          "text": [
            "All are different variables: \n",
            "Blue Black Green Red\n"
          ]
        }
      ]
    },
    {
      "cell_type": "code",
      "source": [
        "# Avoid using Python keywords as variable names\n",
        "\n",
        "import keyword\n",
        "\n",
        "print(\"Avoid using these Python keywords while naming variable\")\n",
        "print(keyword.kwlist)"
      ],
      "metadata": {
        "colab": {
          "base_uri": "https://localhost:8080/"
        },
        "id": "-9yPHp2VADt8",
        "outputId": "a5b48de1-f6a0-40d9-d942-f826a54385d0"
      },
      "execution_count": null,
      "outputs": [
        {
          "output_type": "stream",
          "name": "stdout",
          "text": [
            "Avoid using these Python keywords while naming variable\n",
            "['False', 'None', 'True', 'and', 'as', 'assert', 'async', 'await', 'break', 'class', 'continue', 'def', 'del', 'elif', 'else', 'except', 'finally', 'for', 'from', 'global', 'if', 'import', 'in', 'is', 'lambda', 'nonlocal', 'not', 'or', 'pass', 'raise', 'return', 'try', 'while', 'with', 'yield']\n"
          ]
        }
      ]
    },
    {
      "cell_type": "markdown",
      "source": [
        "# Scope of a Variable"
      ],
      "metadata": {
        "id": "fUIc9OliAZOv"
      }
    },
    {
      "cell_type": "code",
      "source": [
        "x = 3\n",
        "print(x) # global variable\n",
        "\n",
        "def check_var_scope():\n",
        "  x=4 # local variable\n",
        "  print(x)\n",
        "\n",
        "check_var_scope()\n",
        "\n",
        "print(x) # local variable doesn't impact global variable"
      ],
      "metadata": {
        "colab": {
          "base_uri": "https://localhost:8080/"
        },
        "id": "0xhI3RGzAVxo",
        "outputId": "fe0dccab-f49d-46ed-92c7-f096e19a5a42"
      },
      "execution_count": null,
      "outputs": [
        {
          "output_type": "stream",
          "name": "stdout",
          "text": [
            "3\n",
            "4\n",
            "3\n"
          ]
        }
      ]
    },
    {
      "cell_type": "markdown",
      "source": [
        "### Operators"
      ],
      "metadata": {
        "id": "6BCsXzcYfOpQ"
      }
    },
    {
      "cell_type": "code",
      "source": [
        "# Arithmetic Operators\n",
        "a = 2\n",
        "b = 3\n",
        "\n",
        "#Adddition\n",
        "add= a+b\n",
        "print(\"Adddition: \", add)\n",
        "\n",
        "#Substraction\n",
        "sub= a-b\n",
        "print(\"Substraction: \", sub)\n",
        "\n",
        "#Multiplication\n",
        "mul= a*b\n",
        "print(\"Multiplication: \", mul)\n",
        "\n",
        "#Division\n",
        "div= a/b\n",
        "print(\"Division: \", div)\n",
        "\n",
        "#Modulus\n",
        "mod= a%b\n",
        "print(\"Modulus: \", mod)\n",
        "\n",
        "#Exponential\n",
        "expo = a**b\n",
        "print(\"Exponential: \", expo)"
      ],
      "metadata": {
        "colab": {
          "base_uri": "https://localhost:8080/"
        },
        "id": "-ymGD0OjgwfK",
        "outputId": "09ed62e3-748d-419a-d436-548d26002a2e"
      },
      "execution_count": 1,
      "outputs": [
        {
          "output_type": "stream",
          "name": "stdout",
          "text": [
            "Adddition:  5\n",
            "Substraction:  -1\n",
            "Multiplication:  6\n",
            "Division:  0.6666666666666666\n",
            "Modulus:  2\n",
            "Exponential:  8\n"
          ]
        }
      ]
    },
    {
      "cell_type": "code",
      "source": [
        "#Comparison Operators\n",
        "a = 13\n",
        "b = 33\n",
        "\n",
        "print(f\"Greater than operator: {a > b}\")\n",
        "print(f\"Less than operator: {a < b}\")\n",
        "print(f\"Equal to operator: {a == b}\")\n",
        "print(f\"Not equal to operator: {a != b}\")\n",
        "print(f\"Greater than or equal to operator: {a >= b}\")\n",
        "print(f\"Less than or equal to operator: {a <= b}\")"
      ],
      "metadata": {
        "colab": {
          "base_uri": "https://localhost:8080/"
        },
        "id": "ZbnH9aebz1gn",
        "outputId": "1aa22b9a-bd05-49db-94c8-ed6c3829a8c8"
      },
      "execution_count": 2,
      "outputs": [
        {
          "output_type": "stream",
          "name": "stdout",
          "text": [
            "Greater than operator: False\n",
            "Less than operator: True\n",
            "Equal to operator: False\n",
            "Not equal to operator: True\n",
            "Greater than or equal to operator: False\n",
            "Less than or equal to operator: True\n"
          ]
        }
      ]
    },
    {
      "cell_type": "code",
      "source": [
        "# Logical Operators\n",
        "a = True\n",
        "b = False\n",
        "\n",
        "print(\"and operator: \",a and b)\n",
        "print(\"or operator: \",a or b)\n",
        "print(\"not operator: \",not a)"
      ],
      "metadata": {
        "colab": {
          "base_uri": "https://localhost:8080/"
        },
        "id": "1jIRB2450dHa",
        "outputId": "e21442d6-d9bd-4c28-c57a-5687a29914c6"
      },
      "execution_count": 3,
      "outputs": [
        {
          "output_type": "stream",
          "name": "stdout",
          "text": [
            "and operator:  False\n",
            "or operator:  True\n",
            "not operator:  False\n"
          ]
        }
      ]
    },
    {
      "cell_type": "code",
      "source": [
        "#Assignment Operators\n",
        "\n",
        "a = 10\n",
        "b = a\n",
        "print(b)\n",
        "b += a # b=b+a\n",
        "print(b)\n",
        "b -= a # b=b-a\n",
        "print(b)\n",
        "b *= a # b=b*a\n",
        "print(b)"
      ],
      "metadata": {
        "colab": {
          "base_uri": "https://localhost:8080/"
        },
        "id": "F99qGGiC05yk",
        "outputId": "894d1517-f90f-4c28-fb8b-a658d48087e4"
      },
      "execution_count": 4,
      "outputs": [
        {
          "output_type": "stream",
          "name": "stdout",
          "text": [
            "10\n",
            "20\n",
            "10\n",
            "100\n"
          ]
        }
      ]
    },
    {
      "cell_type": "markdown",
      "source": [
        "### Conditional Statements"
      ],
      "metadata": {
        "id": "UKh0Ej_xCc-8"
      }
    },
    {
      "cell_type": "code",
      "source": [
        "# if condition\n",
        "a = 3\n",
        "b = 4\n",
        "\n",
        "if a==b:\n",
        "  print(\"a is equal to b.\")\n",
        "elif a>b:\n",
        "    print(\"a is greater than b.\")\n",
        "elif b>a:\n",
        "  print(\"b is greater than a.\")\n",
        "else:\n",
        "  print(\"Something is wrong.\")\n"
      ],
      "metadata": {
        "colab": {
          "base_uri": "https://localhost:8080/"
        },
        "id": "g14jO94oCm7T",
        "outputId": "849a658e-a2d8-4d27-edf7-15559fe2b9e8"
      },
      "execution_count": 9,
      "outputs": [
        {
          "output_type": "stream",
          "name": "stdout",
          "text": [
            "b is greater than a.\n"
          ]
        }
      ]
    },
    {
      "cell_type": "code",
      "source": [
        "#Ternary\n",
        "\n",
        "a = 20\n",
        "b=10\n",
        "\n",
        "c = \"a > b\" if a >= b else \"a < b\""
      ],
      "metadata": {
        "id": "rJK9ZiLBDEXU"
      },
      "execution_count": 10,
      "outputs": []
    },
    {
      "cell_type": "code",
      "source": [
        "#Match-Case\n",
        "\n",
        "a = 2\n",
        "\n",
        "match a:\n",
        "    case 1:\n",
        "        print(\"One\")\n",
        "    case 2 | 3:\n",
        "        print(\"Two or Three\")\n",
        "    case _:\n",
        "        print(\"Other number\")"
      ],
      "metadata": {
        "colab": {
          "base_uri": "https://localhost:8080/"
        },
        "id": "0-EANT4ZDnbQ",
        "outputId": "1649c57f-1269-44ae-e911-ef9bf821720e"
      },
      "execution_count": 11,
      "outputs": [
        {
          "output_type": "stream",
          "name": "stdout",
          "text": [
            "Two or Three\n"
          ]
        }
      ]
    },
    {
      "cell_type": "markdown",
      "source": [
        "### Loop"
      ],
      "metadata": {
        "id": "wUKetOmTDxeh"
      }
    },
    {
      "cell_type": "code",
      "source": [
        "# while\n",
        "\n",
        "a = 0\n",
        "while (a < 3):\n",
        "    a = a + 1\n",
        "    print(a)"
      ],
      "metadata": {
        "colab": {
          "base_uri": "https://localhost:8080/"
        },
        "id": "O6Gyq2h1Dzgo",
        "outputId": "2ccfa350-3236-476a-a0f2-df80ff16dd1c"
      },
      "execution_count": 12,
      "outputs": [
        {
          "output_type": "stream",
          "name": "stdout",
          "text": [
            "1\n",
            "2\n",
            "3\n"
          ]
        }
      ]
    },
    {
      "cell_type": "code",
      "source": [
        "#for\n",
        "\n",
        "a = 4\n",
        "for i in range(0, a):\n",
        "    print(i)"
      ],
      "metadata": {
        "colab": {
          "base_uri": "https://localhost:8080/"
        },
        "id": "zroJe7jND7QO",
        "outputId": "cb118db6-49a3-49fc-a9e7-69d117752e0d"
      },
      "execution_count": 13,
      "outputs": [
        {
          "output_type": "stream",
          "name": "stdout",
          "text": [
            "0\n",
            "1\n",
            "2\n",
            "3\n"
          ]
        }
      ]
    },
    {
      "cell_type": "markdown",
      "source": [
        "### Function"
      ],
      "metadata": {
        "id": "wANCDW4uETPN"
      }
    },
    {
      "cell_type": "code",
      "source": [
        "#function definition\n",
        "def say_hello():\n",
        "  print(\"Hello There!\") #reusable code that I can call multiple time\n",
        "\n",
        "#function excution\n",
        "say_hello()"
      ],
      "metadata": {
        "colab": {
          "base_uri": "https://localhost:8080/"
        },
        "id": "VWJ6xu0zEEf9",
        "outputId": "3ca7e379-d50a-416b-cc4c-78cdc3131bb5"
      },
      "execution_count": 14,
      "outputs": [
        {
          "output_type": "stream",
          "name": "stdout",
          "text": [
            "Hello There!\n"
          ]
        }
      ]
    },
    {
      "cell_type": "code",
      "source": [
        "def addition(num1, num2):\n",
        "  print(num1+num2)\n",
        "\n",
        "addition(1,2)"
      ],
      "metadata": {
        "colab": {
          "base_uri": "https://localhost:8080/"
        },
        "id": "0OHqgeMqEpmr",
        "outputId": "2c724b0b-b86f-4a3e-cf81-281dc8e982f3"
      },
      "execution_count": 15,
      "outputs": [
        {
          "output_type": "stream",
          "name": "stdout",
          "text": [
            "3\n"
          ]
        }
      ]
    },
    {
      "cell_type": "code",
      "source": [
        "def addition(num1: int|float, num2:int|float)->None:\n",
        "  print(num1+num2)\n",
        "\n",
        "addition(1,2)"
      ],
      "metadata": {
        "colab": {
          "base_uri": "https://localhost:8080/"
        },
        "id": "9oGgWV6HE_pp",
        "outputId": "ae48e3a9-3999-4357-ae52-392832b2ab0b"
      },
      "execution_count": 16,
      "outputs": [
        {
          "output_type": "stream",
          "name": "stdout",
          "text": [
            "3\n"
          ]
        }
      ]
    },
    {
      "cell_type": "code",
      "source": [
        "def recursive_sum(numbers: list[int]) -> int:\n",
        "    if not numbers:\n",
        "        return 0\n",
        "    return numbers[0] + recursive_sum(numbers[1:])\n",
        "\n",
        "a=[1,2,3,4,5,6,7,8,9,10]\n",
        "\n",
        "recursive_sum(a)"
      ],
      "metadata": {
        "colab": {
          "base_uri": "https://localhost:8080/"
        },
        "id": "vOWUcDTRFRd2",
        "outputId": "96eb8423-088b-4315-8c9d-c1692835c4ba"
      },
      "execution_count": 17,
      "outputs": [
        {
          "output_type": "execute_result",
          "data": {
            "text/plain": [
              "55"
            ]
          },
          "metadata": {},
          "execution_count": 17
        }
      ]
    },
    {
      "cell_type": "code",
      "source": [
        "def multiple_args(*args):\n",
        "    for arg in args:\n",
        "        print(arg)\n",
        "\n",
        "multiple_args(1, 2, 3, 4, 5)"
      ],
      "metadata": {
        "colab": {
          "base_uri": "https://localhost:8080/"
        },
        "id": "cuX7k5syFedm",
        "outputId": "8b4a227b-069e-4f27-a3d7-60d130fd6f76"
      },
      "execution_count": 18,
      "outputs": [
        {
          "output_type": "stream",
          "name": "stdout",
          "text": [
            "1\n",
            "2\n",
            "3\n",
            "4\n",
            "5\n"
          ]
        }
      ]
    },
    {
      "cell_type": "code",
      "source": [
        "def multiple_kwargs(**kwargs):\n",
        "    for k, val in kwargs.items():\n",
        "        print(f\"{k}: {val}\")\n",
        "\n",
        "multiple_kwargs(name=\"John\", age=30, city=\"New York\")"
      ],
      "metadata": {
        "colab": {
          "base_uri": "https://localhost:8080/"
        },
        "id": "Lg9xDn4hF0u7",
        "outputId": "3a863cb9-9f1d-4f38-c0e0-35949ad36f41"
      },
      "execution_count": 20,
      "outputs": [
        {
          "output_type": "stream",
          "name": "stdout",
          "text": [
            "name: John\n",
            "age: 30\n",
            "city: New York\n"
          ]
        }
      ]
    },
    {
      "cell_type": "code",
      "source": [
        "a = 10\n",
        "\n",
        "b = lambda a: a>12\n",
        "print(b(a))"
      ],
      "metadata": {
        "colab": {
          "base_uri": "https://localhost:8080/"
        },
        "id": "kyNJ6kzpHe0B",
        "outputId": "957fcdc1-cda1-4e66-a402-2b573e021c50"
      },
      "execution_count": 21,
      "outputs": [
        {
          "output_type": "stream",
          "name": "stdout",
          "text": [
            "False\n"
          ]
        }
      ]
    },
    {
      "cell_type": "code",
      "source": [
        "# decorator function\n",
        "def decorator(func):\n",
        "\n",
        "    def wrapper():\n",
        "        print(\"Before.\\n\")\n",
        "        func()\n",
        "        print(\"\\nAfter.\")\n",
        "    return wrapper\n",
        "\n",
        "# Apply decorator to function\n",
        "@decorator\n",
        "def main_function():\n",
        "    print(\"Main function called!\")\n",
        "\n",
        "#call greet function\n",
        "main_function()"
      ],
      "metadata": {
        "colab": {
          "base_uri": "https://localhost:8080/"
        },
        "id": "ec1tAv0_HsFs",
        "outputId": "13d43210-ff84-4613-91cc-d5b8a3d3ce97"
      },
      "execution_count": 26,
      "outputs": [
        {
          "output_type": "stream",
          "name": "stdout",
          "text": [
            "Before.\n",
            "\n",
            "Main function called!\n",
            "\n",
            "After.\n"
          ]
        }
      ]
    },
    {
      "cell_type": "markdown",
      "source": [
        "### Class"
      ],
      "metadata": {
        "id": "AQULBMO3Iors"
      }
    },
    {
      "cell_type": "code",
      "source": [
        "class personal_info:\n",
        "    def __init__(self, fname, mname, lname):\n",
        "        self.firstname = fname\n",
        "        self.middlename = mname\n",
        "        self.lastname = lname\n",
        "\n",
        "    def get_first_name(self):\n",
        "        print(self.firstname)\n",
        "\n",
        "    def get_last_name(self):\n",
        "        print(self.lastname)\n",
        "\n",
        "    def get_full_name(self):\n",
        "        print(self.firstname, self.middlename, self.lastname)\n",
        "\n",
        "x = personal_info(\"John\", \"Lee\", \"Cooper\")\n",
        "x.get_first_name() # get only first name\n",
        "x.get_last_name() # get only last name\n",
        "x.get_full_name() # get full name"
      ],
      "metadata": {
        "colab": {
          "base_uri": "https://localhost:8080/"
        },
        "id": "uvqts6G8IAe7",
        "outputId": "322689e8-f381-4285-857c-84dd55af2820"
      },
      "execution_count": 27,
      "outputs": [
        {
          "output_type": "stream",
          "name": "stdout",
          "text": [
            "John\n",
            "Cooper\n",
            "John Lee Cooper\n"
          ]
        }
      ]
    },
    {
      "cell_type": "code",
      "source": [],
      "metadata": {
        "id": "wXHQI03WJpId"
      },
      "execution_count": null,
      "outputs": []
    }
  ]
}